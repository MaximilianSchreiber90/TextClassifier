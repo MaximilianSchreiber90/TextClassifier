{
 "cells": [
  {
   "cell_type": "code",
   "execution_count": 1,
   "metadata": {},
   "outputs": [
    {
     "name": "stderr",
     "output_type": "stream",
     "text": [
      "C:\\Users\\Max\\Anaconda3\\lib\\site-packages\\sklearn\\ensemble\\weight_boosting.py:29: DeprecationWarning: numpy.core.umath_tests is an internal NumPy module and should not be imported. It will be removed in a future NumPy release.\n",
      "  from numpy.core.umath_tests import inner1d\n"
     ]
    }
   ],
   "source": [
    "from access_data import *\n",
    "from preparing_data import *\n",
    "from evaluating_data import *\n",
    "from feature_engineering import *"
   ]
  },
  {
   "cell_type": "code",
   "execution_count": 4,
   "metadata": {},
   "outputs": [
    {
     "ename": "UnboundLocalError",
     "evalue": "local variable 'X_validate' referenced before assignment",
     "output_type": "error",
     "traceback": [
      "\u001b[1;31m---------------------------------------------------------------------------\u001b[0m",
      "\u001b[1;31mUnboundLocalError\u001b[0m                         Traceback (most recent call last)",
      "\u001b[1;32m<ipython-input-4-51e3aa258298>\u001b[0m in \u001b[0;36m<module>\u001b[1;34m()\u001b[0m\n\u001b[0;32m      2\u001b[0m \u001b[0mdf_relevant\u001b[0m\u001b[1;33m=\u001b[0m \u001b[0mget_all_data_prepared\u001b[0m\u001b[1;33m(\u001b[0m\u001b[1;33m)\u001b[0m\u001b[1;33m\u001b[0m\u001b[0m\n\u001b[0;32m      3\u001b[0m \u001b[1;33m\u001b[0m\u001b[0m\n\u001b[1;32m----> 4\u001b[1;33m \u001b[0msplit_map\u001b[0m \u001b[1;33m=\u001b[0m \u001b[0msplit_dataset\u001b[0m\u001b[1;33m(\u001b[0m\u001b[0mdf_relevant\u001b[0m\u001b[1;33m)\u001b[0m\u001b[1;33m\u001b[0m\u001b[0m\n\u001b[0m\u001b[0;32m      5\u001b[0m \u001b[0mX_train\u001b[0m \u001b[1;33m=\u001b[0m \u001b[0msplit_map\u001b[0m\u001b[1;33m[\u001b[0m\u001b[1;34m'X_train'\u001b[0m\u001b[1;33m]\u001b[0m\u001b[1;33m\u001b[0m\u001b[0m\n\u001b[0;32m      6\u001b[0m \u001b[0my_train\u001b[0m \u001b[1;33m=\u001b[0m \u001b[0msplit_map\u001b[0m\u001b[1;33m[\u001b[0m\u001b[1;34m'y_train'\u001b[0m\u001b[1;33m]\u001b[0m\u001b[1;33m\u001b[0m\u001b[0m\n",
      "\u001b[1;32m~\\Project\\preparing_data.py\u001b[0m in \u001b[0;36msplit_dataset\u001b[1;34m(df, test_size_split, validate_set)\u001b[0m\n\u001b[0;32m     23\u001b[0m             \u001b[0mX_validate\u001b[0m\u001b[1;33m,\u001b[0m \u001b[0mX_test\u001b[0m \u001b[1;33m=\u001b[0m \u001b[0mX\u001b[0m\u001b[1;33m.\u001b[0m\u001b[0miloc\u001b[0m\u001b[1;33m[\u001b[0m\u001b[0mvalidate_index\u001b[0m\u001b[1;33m]\u001b[0m\u001b[1;33m,\u001b[0m \u001b[0mX\u001b[0m\u001b[1;33m.\u001b[0m\u001b[0miloc\u001b[0m\u001b[1;33m[\u001b[0m\u001b[0mtest_index\u001b[0m\u001b[1;33m]\u001b[0m\u001b[1;33m\u001b[0m\u001b[0m\n\u001b[0;32m     24\u001b[0m             \u001b[0my_validate\u001b[0m\u001b[1;33m,\u001b[0m \u001b[0my_test\u001b[0m \u001b[1;33m=\u001b[0m \u001b[0my\u001b[0m\u001b[1;33m.\u001b[0m\u001b[0miloc\u001b[0m\u001b[1;33m[\u001b[0m\u001b[0mvalidate_index\u001b[0m\u001b[1;33m]\u001b[0m\u001b[1;33m,\u001b[0m \u001b[0my\u001b[0m\u001b[1;33m.\u001b[0m\u001b[0miloc\u001b[0m\u001b[1;33m[\u001b[0m\u001b[0mtest_index\u001b[0m\u001b[1;33m]\u001b[0m\u001b[1;33m\u001b[0m\u001b[0m\n\u001b[1;32m---> 25\u001b[1;33m     \u001b[1;32mreturn\u001b[0m \u001b[1;33m{\u001b[0m\u001b[1;34m'X_train'\u001b[0m\u001b[1;33m:\u001b[0m\u001b[0mX_train\u001b[0m\u001b[1;33m,\u001b[0m \u001b[1;34m'y_train'\u001b[0m\u001b[1;33m:\u001b[0m\u001b[0my_train\u001b[0m\u001b[1;33m,\u001b[0m \u001b[1;34m'X_test'\u001b[0m\u001b[1;33m:\u001b[0m\u001b[0mX_test\u001b[0m \u001b[1;33m,\u001b[0m\u001b[1;34m'y_test'\u001b[0m\u001b[1;33m:\u001b[0m\u001b[0my_test\u001b[0m\u001b[1;33m,\u001b[0m \u001b[1;34m'X_validate'\u001b[0m\u001b[1;33m:\u001b[0m\u001b[0mX_validate\u001b[0m\u001b[1;33m,\u001b[0m \u001b[1;34m'y_validate'\u001b[0m\u001b[1;33m:\u001b[0m\u001b[0my_validate\u001b[0m\u001b[1;33m}\u001b[0m\u001b[1;33m\u001b[0m\u001b[0m\n\u001b[0m\u001b[0;32m     26\u001b[0m \u001b[1;33m\u001b[0m\u001b[0m\n\u001b[0;32m     27\u001b[0m \u001b[1;31m################################################################################################################################################\u001b[0m\u001b[1;33m\u001b[0m\u001b[1;33m\u001b[0m\u001b[0m\n",
      "\u001b[1;31mUnboundLocalError\u001b[0m: local variable 'X_validate' referenced before assignment"
     ]
    }
   ],
   "source": [
    "#getting all data\n",
    "df_relevant= get_all_data_prepared()\n",
    "\n",
    "split_map = split_dataset(df_relevant)\n",
    "X_train = split_map['X_train']\n",
    "y_train = split_map['y_train']\n",
    "X_test = split_map['X_test']\n",
    "y_test = split_map['y_test']\n",
    "\n",
    "# neccessary for multilabeling\n",
    "convert_label_map = convert_labels_for_multilabeling(y_train, y_test)\n",
    "y_train = convert_label_map['y_train_encoded']\n",
    "y_test = convert_label_map['y_test_encoded']"
   ]
  },
  {
   "cell_type": "code",
   "execution_count": 3,
   "metadata": {},
   "outputs": [
    {
     "name": "stdout",
     "output_type": "stream",
     "text": [
      "             precision    recall  f1-score   support\n",
      "\n",
      "          0       0.67      0.29      0.40      2374\n",
      "          1       0.66      0.28      0.40       858\n",
      "          2       0.64      0.32      0.43      3722\n",
      "          3       0.68      0.15      0.24      1383\n",
      "          4       0.83      0.74      0.78     16332\n",
      "          5       0.82      0.73      0.77     13721\n",
      "          6       0.68      0.38      0.49      6583\n",
      "          7       0.84      0.53      0.65      2653\n",
      "          8       0.86      0.63      0.73      2431\n",
      "          9       0.76      0.50      0.60      3367\n",
      "\n",
      "avg / total       0.78      0.59      0.66     53424\n",
      "\n",
      "683\t8  \t63  \t10 \t161  \t228 \t58  \t43  \t13  \t25  \t1153\t2374 \n",
      "14 \t244\t12  \t3  \t44   \t93  \t41  \t4   \t8   \t4   \t414 \t858  \n",
      "36 \t6  \t1206\t14 \t321  \t214 \t162 \t60  \t16  \t24  \t1738\t3722 \n",
      "29 \t9  \t70  \t204\t105  \t77  \t86  \t5   \t9   \t41  \t786 \t1383 \n",
      "29 \t16 \t125 \t9  \t12130\t508 \t371 \t59  \t96  \t81  \t3163\t16332\n",
      "113\t48 \t123 \t13 \t497  \t9976\t312 \t39  \t35  \t300 \t2637\t13721\n",
      "51 \t27 \t147 \t28 \t860  \t555 \t2528\t29  \t40  \t36  \t2496\t6583 \n",
      "44 \t4  \t95  \t5  \t185  \t75  \t43  \t1408\t6   \t8   \t857 \t2653 \n",
      "1  \t3  \t10  \t2  \t187  \t47  \t47  \t16  \t1534\t15  \t650 \t2431 \n",
      "14 \t2  \t35  \t13 \t185  \t342 \t63  \t16  \t18  \t1679\t1128\t3367 \n",
      "['BUSINESS has a truefalse rate of 0.72065']\n",
      "['BUSINESS has a falsetrue rate of 0.32643']\n",
      "['BUSINESS no label was set 0.47157']\n",
      "['BUSINESS has 2445 entries']\n",
      "=====================================================\n",
      "['EDUCATION has a truefalse rate of 0.72304']\n",
      "['EDUCATION has a falsetrue rate of 0.33515']\n",
      "['EDUCATION no label was set 0.46992']\n",
      "['EDUCATION has 881 entries']\n",
      "=====================================================\n",
      "['HEALTH has a truefalse rate of 0.68238']\n",
      "['HEALTH has a falsetrue rate of 0.36055']\n",
      "['HEALTH no label was set 0.45773']\n",
      "['HEALTH has 3797 entries']\n",
      "=====================================================\n",
      "['IMPACT has a truefalse rate of 0.85644']\n",
      "['IMPACT has a falsetrue rate of 0.32226']\n",
      "['IMPACT no label was set 0.55313']\n",
      "['IMPACT has 1421 entries']\n",
      "=====================================================\n",
      "['LIFESTYLE has a truefalse rate of 0.26870']\n",
      "['LIFESTYLE has a falsetrue rate of 0.17342']\n",
      "['LIFESTYLE no label was set 0.19069']\n",
      "['LIFESTYLE has 16587 entries']\n",
      "=====================================================\n",
      "['POLITICS has a truefalse rate of 0.29213']\n",
      "['POLITICS has a falsetrue rate of 0.17656']\n",
      "['POLITICS no label was set 0.18711']\n",
      "['POLITICS has 14093 entries']\n",
      "=====================================================\n",
      "['RANDOM has a truefalse rate of 0.62807']\n",
      "['RANDOM has a falsetrue rate of 0.31878']\n",
      "['RANDOM no label was set 0.36722']\n",
      "['RANDOM has 6797 entries']\n",
      "=====================================================\n",
      "['SCIENCE has a truefalse rate of 0.48425']\n",
      "['SCIENCE has a falsetrue rate of 0.16141']\n",
      "['SCIENCE no label was set 0.31392']\n",
      "['SCIENCE has 2730 entries']\n",
      "=====================================================\n",
      "['SPORTS has a truefalse rate of 0.38933']\n",
      "['SPORTS has a falsetrue rate of 0.13577']\n",
      "['SPORTS no label was set 0.25876']\n",
      "['SPORTS has 2512 entries']\n",
      "=====================================================\n",
      "['WORLDPOST has a truefalse rate of 0.51960']\n",
      "['WORLDPOST has a falsetrue rate of 0.24130']\n",
      "['WORLDPOST no label was set 0.32275']\n",
      "['WORLDPOST has 3495 entries']\n",
      "=====================================================\n"
     ]
    },
    {
     "name": "stderr",
     "output_type": "stream",
     "text": [
      "C:\\Users\\Max\\Anaconda3\\lib\\site-packages\\sklearn\\preprocessing\\label.py:151: DeprecationWarning: The truth value of an empty array is ambiguous. Returning False, but in future this will result in an error. Use `array.size > 0` to check that an array is not empty.\n",
      "  if diff:\n",
      "C:\\Users\\Max\\Anaconda3\\lib\\site-packages\\sklearn\\preprocessing\\label.py:151: DeprecationWarning: The truth value of an empty array is ambiguous. Returning False, but in future this will result in an error. Use `array.size > 0` to check that an array is not empty.\n",
      "  if diff:\n",
      "C:\\Users\\Max\\Anaconda3\\lib\\site-packages\\sklearn\\preprocessing\\label.py:151: DeprecationWarning: The truth value of an empty array is ambiguous. Returning False, but in future this will result in an error. Use `array.size > 0` to check that an array is not empty.\n",
      "  if diff:\n",
      "C:\\Users\\Max\\Anaconda3\\lib\\site-packages\\sklearn\\preprocessing\\label.py:151: DeprecationWarning: The truth value of an empty array is ambiguous. Returning False, but in future this will result in an error. Use `array.size > 0` to check that an array is not empty.\n",
      "  if diff:\n",
      "C:\\Users\\Max\\Anaconda3\\lib\\site-packages\\sklearn\\preprocessing\\label.py:151: DeprecationWarning: The truth value of an empty array is ambiguous. Returning False, but in future this will result in an error. Use `array.size > 0` to check that an array is not empty.\n",
      "  if diff:\n",
      "C:\\Users\\Max\\Anaconda3\\lib\\site-packages\\sklearn\\preprocessing\\label.py:151: DeprecationWarning: The truth value of an empty array is ambiguous. Returning False, but in future this will result in an error. Use `array.size > 0` to check that an array is not empty.\n",
      "  if diff:\n",
      "C:\\Users\\Max\\Anaconda3\\lib\\site-packages\\sklearn\\preprocessing\\label.py:151: DeprecationWarning: The truth value of an empty array is ambiguous. Returning False, but in future this will result in an error. Use `array.size > 0` to check that an array is not empty.\n",
      "  if diff:\n",
      "C:\\Users\\Max\\Anaconda3\\lib\\site-packages\\sklearn\\preprocessing\\label.py:151: DeprecationWarning: The truth value of an empty array is ambiguous. Returning False, but in future this will result in an error. Use `array.size > 0` to check that an array is not empty.\n",
      "  if diff:\n",
      "C:\\Users\\Max\\Anaconda3\\lib\\site-packages\\sklearn\\preprocessing\\label.py:151: DeprecationWarning: The truth value of an empty array is ambiguous. Returning False, but in future this will result in an error. Use `array.size > 0` to check that an array is not empty.\n",
      "  if diff:\n",
      "C:\\Users\\Max\\Anaconda3\\lib\\site-packages\\sklearn\\preprocessing\\label.py:151: DeprecationWarning: The truth value of an empty array is ambiguous. Returning False, but in future this will result in an error. Use `array.size > 0` to check that an array is not empty.\n",
      "  if diff:\n"
     ]
    }
   ],
   "source": [
    "from sklearn.multiclass import OneVsRestClassifier\n",
    "from sklearn.decomposition import TruncatedSVD\n",
    "from sklearn.svm import LinearSVC\n",
    "from sklearn.linear_model import LogisticRegression\n",
    "from sklearn.feature_extraction.text import TfidfVectorizer\n",
    "\n",
    "tfidf_vectorizer =  TfidfVectorizer(stop_words='english', max_df=0.15)\n",
    "\n",
    "X_train_vect = tfidf_vectorizer.fit_transform(X_train)\n",
    "X_test_vect = tfidf_vectorizer.transform(X_test)\n",
    "\n",
    "cfl= OneVsRestClassifier(LinearSVC(C=0.7, random_state=42))\n",
    "cfl.fit(X_train_vect, y_train)\n",
    "\n",
    "from sklearn.metrics import classification_report\n",
    "prediction = cfl.predict(X_test_vect)\n",
    "#predictions_binary = (prediction > 0.4).as_type(np.float64)\n",
    "report = classification_report(y_test, prediction)\n",
    "print(report)\n",
    "\n",
    "matrix = create_confusion_matrix(y_test, X_test_vect, prediction, 0.5)\n",
    "print_truth_values(y_train, matrix, convert_label_map)"
   ]
  }
 ],
 "metadata": {
  "kernelspec": {
   "display_name": "Python 3",
   "language": "python",
   "name": "python3"
  },
  "language_info": {
   "codemirror_mode": {
    "name": "ipython",
    "version": 3
   },
   "file_extension": ".py",
   "mimetype": "text/x-python",
   "name": "python",
   "nbconvert_exporter": "python",
   "pygments_lexer": "ipython3",
   "version": "3.7.0"
  }
 },
 "nbformat": 4,
 "nbformat_minor": 2
}
